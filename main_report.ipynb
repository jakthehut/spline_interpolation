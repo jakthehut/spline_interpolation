{
 "cells": [
  {
   "cell_type": "markdown",
   "metadata": {},
   "source": [
    "### Spline Interpolation\n",
    "for Numerical Methods in Calculus and Linear Algebra"
   ]
  },
  {
   "cell_type": "markdown",
   "metadata": {},
   "source": [
    "# 1. Plan\n",
    "1. Report Writing at the end\n",
    "2. Theory behind hit, how does work\n",
    "    1. first order\n",
    "    2. higher orders? how far is efficietn? probably only like 3 or smth \n",
    "3. pros and cons \n",
    "4. hand calculate 2 examples\n",
    "5. code it - give points, give order, calculate accurcy, etc.\n",
    "6. WHER THE FUCK could we apply that  -\n",
    "find funny examples, misuse them, approximate the function fast.\n",
    "\n",
    "7. code the multidimensional for a cnc machine or smth\n",
    "\n",
    "\n",
    "10. "
   ]
  },
  {
   "cell_type": "code",
   "execution_count": 1,
   "metadata": {},
   "outputs": [
    {
     "name": "stdout",
     "output_type": "stream",
     "text": [
      "This is just test file\n"
     ]
    }
   ],
   "source": [
    "print(\"This is just test file\")"
   ]
  }
 ],
 "metadata": {
  "kernelspec": {
   "display_name": "Python 3",
   "language": "python",
   "name": "python3"
  },
  "language_info": {
   "codemirror_mode": {
    "name": "ipython",
    "version": 3
   },
   "file_extension": ".py",
   "mimetype": "text/x-python",
   "name": "python",
   "nbconvert_exporter": "python",
   "pygments_lexer": "ipython3",
   "version": "3.10.11"
  }
 },
 "nbformat": 4,
 "nbformat_minor": 2
}
